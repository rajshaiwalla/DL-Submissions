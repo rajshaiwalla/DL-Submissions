{
  "nbformat": 4,
  "nbformat_minor": 0,
  "metadata": {
    "colab": {
      "name": "J043_DL_Test_2.ipynb",
      "provenance": [],
      "mount_file_id": "1rnjvicR-3FngSPGKoJFRBFhtk1CmXltE",
      "authorship_tag": "ABX9TyPgCvnXLsvTd0rmeleEWsko",
      "include_colab_link": true
    },
    "kernelspec": {
      "name": "python3",
      "display_name": "Python 3"
    }
  },
  "cells": [
    {
      "cell_type": "markdown",
      "metadata": {
        "id": "view-in-github",
        "colab_type": "text"
      },
      "source": [
        "<a href=\"https://colab.research.google.com/github/rajshaiwalla/DL-Submissions/blob/master/J043_DL_Test_2.ipynb\" target=\"_parent\"><img src=\"https://colab.research.google.com/assets/colab-badge.svg\" alt=\"Open In Colab\"/></a>"
      ]
    },
    {
      "cell_type": "markdown",
      "metadata": {
        "id": "7vdRq7V6OO7U",
        "colab_type": "text"
      },
      "source": [
        "##Raj Shaiwalla, J043: Test 2\n",
        "BTech Data Science Third Year"
      ]
    },
    {
      "cell_type": "code",
      "metadata": {
        "id": "PDDZKoOIKFQD",
        "colab_type": "code",
        "colab": {}
      },
      "source": [
        "import numpy as np\n",
        "import pandas as pd\n",
        "import cv2\n",
        "import PIL.Image\n",
        "import os"
      ],
      "execution_count": 0,
      "outputs": []
    },
    {
      "cell_type": "code",
      "metadata": {
        "id": "m0zAt8Dbuu7P",
        "colab_type": "code",
        "colab": {}
      },
      "source": [
        "X=[]\n",
        "Z=[]\n",
        "IMG_SIZE=150\n",
        "AGRICULTURAL_DIR='/content/drive/My Drive/Colab Notebooks/DL_Test_Images/agricultural' \n",
        "AIRPLANE_DIR='/content/drive/My Drive/Colab Notebooks/DL_Test_Images/airplane'\n",
        "BASEBALLDIAMOND_DIR='/content/drive/My Drive/Colab Notebooks/DL_Test_Images/baseballdiamond'\n",
        "BEACH_DIR='/content/drive/My Drive/Colab Notebooks/DL_Test_Images/beach'\n",
        "BUILDINGS_DIR='/content/drive/My Drive/Colab Notebooks/DL_Test_Images/buildings'\n",
        "CHAPARRAL_DIR='/content/drive/My Drive/Colab Notebooks/DL_Test_Images/chaparral'\n",
        "DENSERESIDENTIAL_DIR='/content/drive/My Drive/Colab Notebooks/DL_Test_Images/denseresidential'\n",
        "FOREST_DIR='/content/drive/My Drive/Colab Notebooks/DL_Test_Images/forest'\n",
        "FREEWAY_DIR='/content/drive/My Drive/Colab Notebooks/DL_Test_Images/freeway'\n",
        "GOLFCOURSE_DIR='/content/drive/My Drive/Colab Notebooks/DL_Test_Images/golfcourse'\n",
        "HARBOR_DIR='/content/drive/My Drive/Colab Notebooks/DL_Test_Images/harbor'\n",
        "INTERSECTION_DIR='/content/drive/My Drive/Colab Notebooks/DL_Test_Images/intersection'\n",
        "MEDIUMRESIDENTIAL_DIR='/content/drive/My Drive/Colab Notebooks/DL_Test_Images/mediumresidential'\n",
        "MOBILEHOMEPARK_DIR='/content/drive/My Drive/Colab Notebooks/DL_Test_Images/mobilehomepark'\n",
        "OVERPASS_DIR='/content/drive/My Drive/Colab Notebooks/DL_Test_Images/overpass'\n",
        "PARKINGLOT_DIR='/content/drive/My Drive/Colab Notebooks/DL_Test_Images/parkinglot'\n",
        "RIVER_DIR='/content/drive/My Drive/Colab Notebooks/DL_Test_Images/river'\n",
        "RUNWAY_DIR='/content/drive/My Drive/Colab Notebooks/DL_Test_Images/runway'\n",
        "SPARSERESIDENTIAL_DIR='/content/drive/My Drive/Colab Notebooks/DL_Test_Images/sparseresidential'\n",
        "STORAGETANKS_DIR='/content/drive/My Drive/Colab Notebooks/DL_Test_Images/storagetanks'\n",
        "TENNISCOURT_DIR='/content/drive/My Drive/Colab Notebooks/DL_Test_Images/tenniscourt'"
      ],
      "execution_count": 0,
      "outputs": []
    },
    {
      "cell_type": "code",
      "metadata": {
        "id": "iWx_otX4b3jz",
        "colab_type": "code",
        "colab": {}
      },
      "source": [
        "def assign_label(img,image_type):\n",
        "    return image_type\n",
        "\n",
        "def make_train_data(image_type,DIR):\n",
        "    for img in tqdm(os.listdir(DIR)):\n",
        "        label=assign_label(img,image_type)\n",
        "        path = os.path.join(DIR,img)\n",
        "        img = cv2.imread(path,cv2.IMREAD_COLOR)\n",
        "        img = cv2.resize(img, (IMG_SIZE,IMG_SIZE))\n",
        "        \n",
        "        X.append(np.array(img))\n",
        "        Z.append(str(label))"
      ],
      "execution_count": 0,
      "outputs": []
    },
    {
      "cell_type": "code",
      "metadata": {
        "id": "LeFLc5YTb583",
        "colab_type": "code",
        "outputId": "4b133114-4eb8-4d03-966e-5bdb8cd3f4a7",
        "colab": {
          "base_uri": "https://localhost:8080/",
          "height": 731
        }
      },
      "source": [
        "from tqdm import tqdm\n",
        "make_train_data('Agricultural',AGRICULTURAL_DIR)\n",
        "print(len(X))\n",
        "make_train_data('Airplane',AIRPLANE_DIR)\n",
        "print(len(X))\n",
        "make_train_data('Baseball Diamond',BASEBALLDIAMOND_DIR)\n",
        "print(len(X))\n",
        "make_train_data('Beach',BEACH_DIR)\n",
        "print(len(X))\n",
        "make_train_data('Buildings',BUILDINGS_DIR)\n",
        "print(len(X))\n",
        "make_train_data('Chaparral',CHAPARRAL_DIR)\n",
        "print(len(X))\n",
        "make_train_data('Dense Residential',DENSERESIDENTIAL_DIR)\n",
        "print(len(X))\n",
        "make_train_data('Forest',FOREST_DIR)\n",
        "print(len(X))\n",
        "make_train_data('Freeway',FREEWAY_DIR)\n",
        "print(len(X))\n",
        "make_train_data('Golfcourse',GOLFCOURSE_DIR)\n",
        "print(len(X))\n",
        "make_train_data('Harbor',HARBOR_DIR)\n",
        "print(len(X))\n",
        "make_train_data('Intersection',INTERSECTION_DIR)\n",
        "print(len(X))\n",
        "make_train_data('Medium Residential',MEDIUMRESIDENTIAL_DIR)\n",
        "print(len(X))\n",
        "make_train_data('Mobile Home Park',MOBILEHOMEPARK_DIR)\n",
        "print(len(X))\n",
        "make_train_data('Overpass',OVERPASS_DIR)\n",
        "print(len(X))\n",
        "make_train_data('Parking Lot',PARKINGLOT_DIR)\n",
        "print(len(X))\n",
        "make_train_data('River',RIVER_DIR)\n",
        "print(len(X))\n",
        "make_train_data('Runway',RUNWAY_DIR)\n",
        "print(len(X))\n",
        "make_train_data('Sparse Residential',SPARSERESIDENTIAL_DIR)\n",
        "print(len(X))\n",
        "make_train_data('Storage Tanks',STORAGETANKS_DIR)\n",
        "print(len(X))\n",
        "make_train_data('Tennis Court',TENNISCOURT_DIR)\n",
        "print(len(X))"
      ],
      "execution_count": 0,
      "outputs": [
        {
          "output_type": "stream",
          "text": [
            "100%|██████████| 100/100 [00:41<00:00,  2.46it/s]\n",
            "  0%|          | 0/100 [00:00<?, ?it/s]"
          ],
          "name": "stderr"
        },
        {
          "output_type": "stream",
          "text": [
            "100\n"
          ],
          "name": "stdout"
        },
        {
          "output_type": "stream",
          "text": [
            "100%|██████████| 100/100 [00:42<00:00,  2.76it/s]\n",
            "  0%|          | 0/100 [00:00<?, ?it/s]"
          ],
          "name": "stderr"
        },
        {
          "output_type": "stream",
          "text": [
            "200\n"
          ],
          "name": "stdout"
        },
        {
          "output_type": "stream",
          "text": [
            "100%|██████████| 100/100 [00:39<00:00,  2.25it/s]\n",
            "  0%|          | 0/100 [00:00<?, ?it/s]"
          ],
          "name": "stderr"
        },
        {
          "output_type": "stream",
          "text": [
            "300\n"
          ],
          "name": "stdout"
        },
        {
          "output_type": "stream",
          "text": [
            "100%|██████████| 100/100 [00:40<00:00,  1.98it/s]\n",
            "  0%|          | 0/100 [00:00<?, ?it/s]"
          ],
          "name": "stderr"
        },
        {
          "output_type": "stream",
          "text": [
            "400\n"
          ],
          "name": "stdout"
        },
        {
          "output_type": "stream",
          "text": [
            "100%|██████████| 100/100 [00:41<00:00,  2.42it/s]\n",
            "  0%|          | 0/100 [00:00<?, ?it/s]"
          ],
          "name": "stderr"
        },
        {
          "output_type": "stream",
          "text": [
            "500\n"
          ],
          "name": "stdout"
        },
        {
          "output_type": "stream",
          "text": [
            "100%|██████████| 100/100 [00:39<00:00,  2.70it/s]\n",
            "  0%|          | 0/100 [00:00<?, ?it/s]"
          ],
          "name": "stderr"
        },
        {
          "output_type": "stream",
          "text": [
            "600\n"
          ],
          "name": "stdout"
        },
        {
          "output_type": "stream",
          "text": [
            "100%|██████████| 100/100 [00:42<00:00,  2.27it/s]\n",
            "  0%|          | 0/100 [00:00<?, ?it/s]"
          ],
          "name": "stderr"
        },
        {
          "output_type": "stream",
          "text": [
            "700\n"
          ],
          "name": "stdout"
        },
        {
          "output_type": "stream",
          "text": [
            "100%|██████████| 100/100 [00:46<00:00,  2.11it/s]\n",
            "  0%|          | 0/100 [00:00<?, ?it/s]"
          ],
          "name": "stderr"
        },
        {
          "output_type": "stream",
          "text": [
            "800\n"
          ],
          "name": "stdout"
        },
        {
          "output_type": "stream",
          "text": [
            "100%|██████████| 100/100 [00:44<00:00,  2.27it/s]\n",
            "  0%|          | 0/100 [00:00<?, ?it/s]"
          ],
          "name": "stderr"
        },
        {
          "output_type": "stream",
          "text": [
            "900\n"
          ],
          "name": "stdout"
        },
        {
          "output_type": "stream",
          "text": [
            "100%|██████████| 100/100 [00:41<00:00,  2.52it/s]\n",
            "  0%|          | 0/100 [00:00<?, ?it/s]"
          ],
          "name": "stderr"
        },
        {
          "output_type": "stream",
          "text": [
            "1000\n"
          ],
          "name": "stdout"
        },
        {
          "output_type": "stream",
          "text": [
            "100%|██████████| 100/100 [00:44<00:00,  2.18it/s]\n",
            "  0%|          | 0/100 [00:00<?, ?it/s]"
          ],
          "name": "stderr"
        },
        {
          "output_type": "stream",
          "text": [
            "1100\n"
          ],
          "name": "stdout"
        },
        {
          "output_type": "stream",
          "text": [
            "100%|██████████| 100/100 [00:46<00:00,  1.95it/s]\n",
            "  0%|          | 0/100 [00:00<?, ?it/s]"
          ],
          "name": "stderr"
        },
        {
          "output_type": "stream",
          "text": [
            "1200\n"
          ],
          "name": "stdout"
        },
        {
          "output_type": "stream",
          "text": [
            "100%|██████████| 100/100 [00:43<00:00,  2.46it/s]\n",
            "  0%|          | 0/100 [00:00<?, ?it/s]"
          ],
          "name": "stderr"
        },
        {
          "output_type": "stream",
          "text": [
            "1300\n"
          ],
          "name": "stdout"
        },
        {
          "output_type": "stream",
          "text": [
            "100%|██████████| 100/100 [00:44<00:00,  2.01it/s]\n",
            "  0%|          | 0/100 [00:00<?, ?it/s]"
          ],
          "name": "stderr"
        },
        {
          "output_type": "stream",
          "text": [
            "1400\n"
          ],
          "name": "stdout"
        },
        {
          "output_type": "stream",
          "text": [
            "100%|██████████| 100/100 [00:44<00:00,  2.24it/s]\n",
            "  0%|          | 0/100 [00:00<?, ?it/s]"
          ],
          "name": "stderr"
        },
        {
          "output_type": "stream",
          "text": [
            "1500\n"
          ],
          "name": "stdout"
        },
        {
          "output_type": "stream",
          "text": [
            "100%|██████████| 100/100 [00:43<00:00,  2.44it/s]\n",
            "  0%|          | 0/100 [00:00<?, ?it/s]"
          ],
          "name": "stderr"
        },
        {
          "output_type": "stream",
          "text": [
            "1600\n"
          ],
          "name": "stdout"
        },
        {
          "output_type": "stream",
          "text": [
            "100%|██████████| 100/100 [00:43<00:00,  2.46it/s]\n",
            "  0%|          | 0/100 [00:00<?, ?it/s]"
          ],
          "name": "stderr"
        },
        {
          "output_type": "stream",
          "text": [
            "1700\n"
          ],
          "name": "stdout"
        },
        {
          "output_type": "stream",
          "text": [
            "100%|██████████| 100/100 [00:47<00:00,  2.31it/s]\n",
            "  0%|          | 0/100 [00:00<?, ?it/s]"
          ],
          "name": "stderr"
        },
        {
          "output_type": "stream",
          "text": [
            "1800\n"
          ],
          "name": "stdout"
        },
        {
          "output_type": "stream",
          "text": [
            "100%|██████████| 100/100 [00:47<00:00,  2.54it/s]\n",
            "  0%|          | 0/100 [00:00<?, ?it/s]"
          ],
          "name": "stderr"
        },
        {
          "output_type": "stream",
          "text": [
            "1900\n"
          ],
          "name": "stdout"
        },
        {
          "output_type": "stream",
          "text": [
            "100%|██████████| 100/100 [00:44<00:00,  2.56it/s]\n",
            "  0%|          | 0/100 [00:00<?, ?it/s]"
          ],
          "name": "stderr"
        },
        {
          "output_type": "stream",
          "text": [
            "2000\n"
          ],
          "name": "stdout"
        },
        {
          "output_type": "stream",
          "text": [
            "100%|██████████| 100/100 [00:49<00:00,  2.04it/s]"
          ],
          "name": "stderr"
        },
        {
          "output_type": "stream",
          "text": [
            "2100\n"
          ],
          "name": "stdout"
        },
        {
          "output_type": "stream",
          "text": [
            "\n"
          ],
          "name": "stderr"
        }
      ]
    },
    {
      "cell_type": "code",
      "metadata": {
        "id": "ba_3gOGAb9SR",
        "colab_type": "code",
        "outputId": "25dee50d-77ab-4dce-da18-5499e8a92336",
        "colab": {
          "base_uri": "https://localhost:8080/",
          "height": 80
        }
      },
      "source": [
        "# Ignore  the warnings\n",
        "import warnings\n",
        "warnings.filterwarnings('always')\n",
        "warnings.filterwarnings('ignore')\n",
        "\n",
        "# data visualisation and manipulation\n",
        "import numpy as np\n",
        "import pandas as pd\n",
        "import matplotlib.pyplot as plt\n",
        "from matplotlib import style\n",
        "import seaborn as sns\n",
        " \n",
        "%matplotlib inline  \n",
        "style.use('fivethirtyeight')\n",
        "sns.set(style='whitegrid',color_codes=True)\n",
        "\n",
        "from sklearn.model_selection import train_test_split\n",
        "from sklearn.model_selection import KFold\n",
        "from sklearn.metrics import accuracy_score,precision_score,recall_score,confusion_matrix,roc_curve,roc_auc_score\n",
        "from sklearn.model_selection import GridSearchCV\n",
        "from sklearn.preprocessing import LabelEncoder\n",
        "\n",
        "from keras.preprocessing.image import ImageDataGenerator\n",
        "\n",
        "from keras import backend as K\n",
        "from keras.models import Sequential\n",
        "from keras.layers import Dense\n",
        "from keras.optimizers import Adam,SGD,Adagrad,Adadelta,RMSprop\n",
        "from keras.utils import to_categorical\n",
        "\n",
        "from keras.layers import Dropout, Flatten,Activation\n",
        "from keras.layers import Conv2D, MaxPooling2D, BatchNormalization\n",
        " \n",
        "import tensorflow as tf\n",
        "import random as rn\n",
        "\n",
        "import cv2                  \n",
        "import numpy as np  \n",
        "from tqdm import tqdm\n",
        "import os                   \n",
        "from random import shuffle  \n",
        "from zipfile import ZipFile\n",
        "from PIL import Image"
      ],
      "execution_count": 0,
      "outputs": [
        {
          "output_type": "stream",
          "text": [
            "Using TensorFlow backend.\n"
          ],
          "name": "stderr"
        },
        {
          "output_type": "display_data",
          "data": {
            "text/html": [
              "<p style=\"color: red;\">\n",
              "The default version of TensorFlow in Colab will soon switch to TensorFlow 2.x.<br>\n",
              "We recommend you <a href=\"https://www.tensorflow.org/guide/migrate\" target=\"_blank\">upgrade</a> now \n",
              "or ensure your notebook will continue to use TensorFlow 1.x via the <code>%tensorflow_version 1.x</code> magic:\n",
              "<a href=\"https://colab.research.google.com/notebooks/tensorflow_version.ipynb\" target=\"_blank\">more info</a>.</p>\n"
            ],
            "text/plain": [
              "<IPython.core.display.HTML object>"
            ]
          },
          "metadata": {
            "tags": []
          }
        }
      ]
    },
    {
      "cell_type": "code",
      "metadata": {
        "id": "j14ndD_rb-6i",
        "colab_type": "code",
        "colab": {}
      },
      "source": [
        "le=LabelEncoder()\n",
        "Y=le.fit_transform(Z)\n",
        "Y=to_categorical(Y,21)\n",
        "X=np.array(X)\n",
        "X=X/255"
      ],
      "execution_count": 0,
      "outputs": []
    },
    {
      "cell_type": "code",
      "metadata": {
        "id": "fRdkD5WccALq",
        "colab_type": "code",
        "colab": {}
      },
      "source": [
        "x_train,x_test,y_train,y_test=train_test_split(X,Y,test_size=0.25,random_state=42)\n",
        "np.random.seed(42)\n",
        "rn.seed(42)\n",
        "tf.set_random_seed(42)"
      ],
      "execution_count": 0,
      "outputs": []
    },
    {
      "cell_type": "code",
      "metadata": {
        "id": "O8RKwj0pcBM5",
        "colab_type": "code",
        "outputId": "7fb8c3d4-474e-4a21-d22b-c8b67646b5b6",
        "colab": {
          "base_uri": "https://localhost:8080/",
          "height": 173
        }
      },
      "source": [
        "model = Sequential()\n",
        "model.add(Conv2D(filters = 32, kernel_size = (5,5),padding = 'Same',activation ='relu', input_shape = (150,150,3)))\n",
        "model.add(MaxPooling2D(pool_size=(2,2)))\n",
        "\n",
        "\n",
        "model.add(Conv2D(filters = 64, kernel_size = (3,3),padding = 'Same',activation ='relu'))\n",
        "model.add(MaxPooling2D(pool_size=(2,2), strides=(2,2)))\n",
        " \n",
        "\n",
        "model.add(Conv2D(filters =96, kernel_size = (3,3),padding = 'Same',activation ='relu'))\n",
        "model.add(MaxPooling2D(pool_size=(2,2), strides=(2,2)))\n",
        "\n",
        "model.add(Conv2D(filters = 96, kernel_size = (3,3),padding = 'Same',activation ='relu'))\n",
        "model.add(MaxPooling2D(pool_size=(2,2), strides=(2,2)))\n",
        "\n",
        "model.add(Flatten())\n",
        "model.add(Dense(512))\n",
        "model.add(Activation('relu'))\n",
        "model.add(Dense(21, activation = \"softmax\"))"
      ],
      "execution_count": 0,
      "outputs": [
        {
          "output_type": "stream",
          "text": [
            "WARNING:tensorflow:From /usr/local/lib/python3.6/dist-packages/keras/backend/tensorflow_backend.py:66: The name tf.get_default_graph is deprecated. Please use tf.compat.v1.get_default_graph instead.\n",
            "\n",
            "WARNING:tensorflow:From /usr/local/lib/python3.6/dist-packages/keras/backend/tensorflow_backend.py:541: The name tf.placeholder is deprecated. Please use tf.compat.v1.placeholder instead.\n",
            "\n",
            "WARNING:tensorflow:From /usr/local/lib/python3.6/dist-packages/keras/backend/tensorflow_backend.py:4432: The name tf.random_uniform is deprecated. Please use tf.random.uniform instead.\n",
            "\n",
            "WARNING:tensorflow:From /usr/local/lib/python3.6/dist-packages/keras/backend/tensorflow_backend.py:4267: The name tf.nn.max_pool is deprecated. Please use tf.nn.max_pool2d instead.\n",
            "\n"
          ],
          "name": "stdout"
        }
      ]
    },
    {
      "cell_type": "code",
      "metadata": {
        "id": "iH1ze9ancCLG",
        "colab_type": "code",
        "colab": {}
      },
      "source": [
        "batch_size=21\n",
        "epochs=50\n",
        "\n",
        "from keras.callbacks import ReduceLROnPlateau\n",
        "red_lr= ReduceLROnPlateau(monitor='val_acc',patience=3,verbose=1,factor=0.1)"
      ],
      "execution_count": 0,
      "outputs": []
    },
    {
      "cell_type": "code",
      "metadata": {
        "id": "IjMYa1kpcDVi",
        "colab_type": "code",
        "colab": {}
      },
      "source": [
        "datagen = ImageDataGenerator(\n",
        "        featurewise_center=False,  \n",
        "        samplewise_center=False,  \n",
        "        featurewise_std_normalization=False, \n",
        "        samplewise_std_normalization=False,  \n",
        "        zca_whitening=False,  \n",
        "        rotation_range=10,  \n",
        "        zoom_range = 0.1, \n",
        "        width_shift_range=0.2,  \n",
        "        height_shift_range=0.2,  \n",
        "        horizontal_flip=True,  \n",
        "        vertical_flip=False)  \n",
        "\n",
        "datagen.fit(x_train)"
      ],
      "execution_count": 0,
      "outputs": []
    },
    {
      "cell_type": "code",
      "metadata": {
        "id": "MSEl4Oo-cFKP",
        "colab_type": "code",
        "outputId": "78b7f0f6-3d07-4100-bbe3-a519a5c39b23",
        "colab": {
          "base_uri": "https://localhost:8080/",
          "height": 156
        }
      },
      "source": [
        "model.compile(optimizer=Adam(lr=0.001),loss='binary_crossentropy',metrics=['accuracy'])"
      ],
      "execution_count": 0,
      "outputs": [
        {
          "output_type": "stream",
          "text": [
            "WARNING:tensorflow:From /usr/local/lib/python3.6/dist-packages/keras/optimizers.py:793: The name tf.train.Optimizer is deprecated. Please use tf.compat.v1.train.Optimizer instead.\n",
            "\n",
            "WARNING:tensorflow:From /usr/local/lib/python3.6/dist-packages/keras/backend/tensorflow_backend.py:3657: The name tf.log is deprecated. Please use tf.math.log instead.\n",
            "\n",
            "WARNING:tensorflow:From /usr/local/lib/python3.6/dist-packages/tensorflow_core/python/ops/nn_impl.py:183: where (from tensorflow.python.ops.array_ops) is deprecated and will be removed in a future version.\n",
            "Instructions for updating:\n",
            "Use tf.where in 2.0, which has the same broadcast rule as np.where\n"
          ],
          "name": "stdout"
        }
      ]
    },
    {
      "cell_type": "code",
      "metadata": {
        "id": "XLHCBJmwcGY0",
        "colab_type": "code",
        "outputId": "1b0f0e05-2f96-4e1f-e055-762cf3300741",
        "colab": {
          "base_uri": "https://localhost:8080/",
          "height": 561
        }
      },
      "source": [
        "model.summary()"
      ],
      "execution_count": 0,
      "outputs": [
        {
          "output_type": "stream",
          "text": [
            "Model: \"sequential_1\"\n",
            "_________________________________________________________________\n",
            "Layer (type)                 Output Shape              Param #   \n",
            "=================================================================\n",
            "conv2d_1 (Conv2D)            (None, 150, 150, 32)      2432      \n",
            "_________________________________________________________________\n",
            "max_pooling2d_1 (MaxPooling2 (None, 75, 75, 32)        0         \n",
            "_________________________________________________________________\n",
            "conv2d_2 (Conv2D)            (None, 75, 75, 64)        18496     \n",
            "_________________________________________________________________\n",
            "max_pooling2d_2 (MaxPooling2 (None, 37, 37, 64)        0         \n",
            "_________________________________________________________________\n",
            "conv2d_3 (Conv2D)            (None, 37, 37, 96)        55392     \n",
            "_________________________________________________________________\n",
            "max_pooling2d_3 (MaxPooling2 (None, 18, 18, 96)        0         \n",
            "_________________________________________________________________\n",
            "conv2d_4 (Conv2D)            (None, 18, 18, 96)        83040     \n",
            "_________________________________________________________________\n",
            "max_pooling2d_4 (MaxPooling2 (None, 9, 9, 96)          0         \n",
            "_________________________________________________________________\n",
            "flatten_1 (Flatten)          (None, 7776)              0         \n",
            "_________________________________________________________________\n",
            "dense_1 (Dense)              (None, 512)               3981824   \n",
            "_________________________________________________________________\n",
            "activation_1 (Activation)    (None, 512)               0         \n",
            "_________________________________________________________________\n",
            "dense_2 (Dense)              (None, 21)                10773     \n",
            "=================================================================\n",
            "Total params: 4,151,957\n",
            "Trainable params: 4,151,957\n",
            "Non-trainable params: 0\n",
            "_________________________________________________________________\n"
          ],
          "name": "stdout"
        }
      ]
    },
    {
      "cell_type": "code",
      "metadata": {
        "id": "I4aDmtuUcHfi",
        "colab_type": "code",
        "outputId": "e0b99d12-e9c3-4c71-d509-e9d7ee548f18",
        "colab": {
          "base_uri": "https://localhost:8080/",
          "height": 1000
        }
      },
      "source": [
        "History = model.fit_generator(datagen.flow(x_train,y_train, batch_size=batch_size),\n",
        "                              epochs = epochs, validation_data = (x_test,y_test), \n",
        "                              verbose = 1, steps_per_epoch=x_train.shape[0] // batch_size)"
      ],
      "execution_count": 0,
      "outputs": [
        {
          "output_type": "stream",
          "text": [
            "WARNING:tensorflow:From /usr/local/lib/python3.6/dist-packages/keras/backend/tensorflow_backend.py:1033: The name tf.assign_add is deprecated. Please use tf.compat.v1.assign_add instead.\n",
            "\n",
            "WARNING:tensorflow:From /usr/local/lib/python3.6/dist-packages/keras/backend/tensorflow_backend.py:1020: The name tf.assign is deprecated. Please use tf.compat.v1.assign instead.\n",
            "\n",
            "WARNING:tensorflow:From /usr/local/lib/python3.6/dist-packages/keras/backend/tensorflow_backend.py:3005: The name tf.Session is deprecated. Please use tf.compat.v1.Session instead.\n",
            "\n",
            "Epoch 1/50\n",
            "WARNING:tensorflow:From /usr/local/lib/python3.6/dist-packages/keras/backend/tensorflow_backend.py:190: The name tf.get_default_session is deprecated. Please use tf.compat.v1.get_default_session instead.\n",
            "\n",
            "WARNING:tensorflow:From /usr/local/lib/python3.6/dist-packages/keras/backend/tensorflow_backend.py:197: The name tf.ConfigProto is deprecated. Please use tf.compat.v1.ConfigProto instead.\n",
            "\n",
            "WARNING:tensorflow:From /usr/local/lib/python3.6/dist-packages/keras/backend/tensorflow_backend.py:207: The name tf.global_variables is deprecated. Please use tf.compat.v1.global_variables instead.\n",
            "\n",
            "WARNING:tensorflow:From /usr/local/lib/python3.6/dist-packages/keras/backend/tensorflow_backend.py:216: The name tf.is_variable_initialized is deprecated. Please use tf.compat.v1.is_variable_initialized instead.\n",
            "\n",
            "WARNING:tensorflow:From /usr/local/lib/python3.6/dist-packages/keras/backend/tensorflow_backend.py:223: The name tf.variables_initializer is deprecated. Please use tf.compat.v1.variables_initializer instead.\n",
            "\n",
            "75/75 [==============================] - 96s 1s/step - loss: 0.1912 - acc: 0.9524 - val_loss: 0.1841 - val_acc: 0.9522\n",
            "Epoch 2/50\n",
            "75/75 [==============================] - 94s 1s/step - loss: 0.1764 - acc: 0.9524 - val_loss: 0.1779 - val_acc: 0.9494\n",
            "Epoch 3/50\n",
            "75/75 [==============================] - 96s 1s/step - loss: 0.1579 - acc: 0.9531 - val_loss: 0.1547 - val_acc: 0.9527\n",
            "Epoch 4/50\n",
            "75/75 [==============================] - 96s 1s/step - loss: 0.1392 - acc: 0.9548 - val_loss: 0.1202 - val_acc: 0.9570\n",
            "Epoch 5/50\n",
            "75/75 [==============================] - 95s 1s/step - loss: 0.1224 - acc: 0.9583 - val_loss: 0.1115 - val_acc: 0.9617\n",
            "Epoch 6/50\n",
            "75/75 [==============================] - 96s 1s/step - loss: 0.1129 - acc: 0.9605 - val_loss: 0.1037 - val_acc: 0.9640\n",
            "Epoch 7/50\n",
            "75/75 [==============================] - 94s 1s/step - loss: 0.1013 - acc: 0.9633 - val_loss: 0.0994 - val_acc: 0.9647\n",
            "Epoch 8/50\n",
            "75/75 [==============================] - 95s 1s/step - loss: 0.0971 - acc: 0.9648 - val_loss: 0.0903 - val_acc: 0.9678\n",
            "Epoch 9/50\n",
            "75/75 [==============================] - 96s 1s/step - loss: 0.0867 - acc: 0.9685 - val_loss: 0.0841 - val_acc: 0.9698\n",
            "Epoch 10/50\n",
            "75/75 [==============================] - 96s 1s/step - loss: 0.0842 - acc: 0.9685 - val_loss: 0.0810 - val_acc: 0.9700\n",
            "Epoch 11/50\n",
            "75/75 [==============================] - 95s 1s/step - loss: 0.0804 - acc: 0.9705 - val_loss: 0.0765 - val_acc: 0.9707\n",
            "Epoch 12/50\n",
            "75/75 [==============================] - 95s 1s/step - loss: 0.0731 - acc: 0.9725 - val_loss: 0.0915 - val_acc: 0.9682\n",
            "Epoch 13/50\n",
            "75/75 [==============================] - 94s 1s/step - loss: 0.0707 - acc: 0.9732 - val_loss: 0.0630 - val_acc: 0.9761\n",
            "Epoch 14/50\n",
            "75/75 [==============================] - 94s 1s/step - loss: 0.0677 - acc: 0.9749 - val_loss: 0.0728 - val_acc: 0.9745\n",
            "Epoch 15/50\n",
            "75/75 [==============================] - 95s 1s/step - loss: 0.0653 - acc: 0.9749 - val_loss: 0.0579 - val_acc: 0.9771\n",
            "Epoch 16/50\n",
            "75/75 [==============================] - 94s 1s/step - loss: 0.0604 - acc: 0.9767 - val_loss: 0.0622 - val_acc: 0.9761\n",
            "Epoch 17/50\n",
            "75/75 [==============================] - 94s 1s/step - loss: 0.0565 - acc: 0.9784 - val_loss: 0.0626 - val_acc: 0.9766\n",
            "Epoch 18/50\n",
            "75/75 [==============================] - 94s 1s/step - loss: 0.0605 - acc: 0.9768 - val_loss: 0.0594 - val_acc: 0.9770\n",
            "Epoch 19/50\n",
            "75/75 [==============================] - 94s 1s/step - loss: 0.0520 - acc: 0.9803 - val_loss: 0.0565 - val_acc: 0.9775\n",
            "Epoch 20/50\n",
            "75/75 [==============================] - 95s 1s/step - loss: 0.0479 - acc: 0.9820 - val_loss: 0.0460 - val_acc: 0.9818\n",
            "Epoch 21/50\n",
            "75/75 [==============================] - 95s 1s/step - loss: 0.0429 - acc: 0.9833 - val_loss: 0.0493 - val_acc: 0.9820\n",
            "Epoch 22/50\n",
            "75/75 [==============================] - 95s 1s/step - loss: 0.0475 - acc: 0.9813 - val_loss: 0.0489 - val_acc: 0.9805\n",
            "Epoch 23/50\n",
            "75/75 [==============================] - 94s 1s/step - loss: 0.0440 - acc: 0.9836 - val_loss: 0.0509 - val_acc: 0.9792\n",
            "Epoch 24/50\n",
            "75/75 [==============================] - 95s 1s/step - loss: 0.0418 - acc: 0.9836 - val_loss: 0.0439 - val_acc: 0.9829\n",
            "Epoch 25/50\n",
            "75/75 [==============================] - 94s 1s/step - loss: 0.0418 - acc: 0.9843 - val_loss: 0.0480 - val_acc: 0.9810\n",
            "Epoch 26/50\n",
            "75/75 [==============================] - 93s 1s/step - loss: 0.0407 - acc: 0.9844 - val_loss: 0.0413 - val_acc: 0.9841\n",
            "Epoch 27/50\n",
            "75/75 [==============================] - 94s 1s/step - loss: 0.0393 - acc: 0.9843 - val_loss: 0.0542 - val_acc: 0.9799\n",
            "Epoch 28/50\n",
            "75/75 [==============================] - 95s 1s/step - loss: 0.0392 - acc: 0.9848 - val_loss: 0.0457 - val_acc: 0.9832\n",
            "Epoch 29/50\n",
            "75/75 [==============================] - 95s 1s/step - loss: 0.0344 - acc: 0.9870 - val_loss: 0.0439 - val_acc: 0.9831\n",
            "Epoch 30/50\n",
            "75/75 [==============================] - 96s 1s/step - loss: 0.0348 - acc: 0.9868 - val_loss: 0.0454 - val_acc: 0.9820\n",
            "Epoch 31/50\n",
            "75/75 [==============================] - 94s 1s/step - loss: 0.0347 - acc: 0.9865 - val_loss: 0.0547 - val_acc: 0.9787\n",
            "Epoch 32/50\n",
            "75/75 [==============================] - 95s 1s/step - loss: 0.0333 - acc: 0.9868 - val_loss: 0.0477 - val_acc: 0.9824\n",
            "Epoch 33/50\n",
            "75/75 [==============================] - 94s 1s/step - loss: 0.0331 - acc: 0.9881 - val_loss: 0.0468 - val_acc: 0.9817\n",
            "Epoch 34/50\n",
            "75/75 [==============================] - 94s 1s/step - loss: 0.0334 - acc: 0.9875 - val_loss: 0.0460 - val_acc: 0.9826\n",
            "Epoch 35/50\n",
            "75/75 [==============================] - 94s 1s/step - loss: 0.0263 - acc: 0.9898 - val_loss: 0.0402 - val_acc: 0.9827\n",
            "Epoch 36/50\n",
            "75/75 [==============================] - 94s 1s/step - loss: 0.0286 - acc: 0.9890 - val_loss: 0.0375 - val_acc: 0.9858\n",
            "Epoch 37/50\n",
            "75/75 [==============================] - 93s 1s/step - loss: 0.0267 - acc: 0.9903 - val_loss: 0.0495 - val_acc: 0.9836\n",
            "Epoch 38/50\n",
            "75/75 [==============================] - 94s 1s/step - loss: 0.0262 - acc: 0.9901 - val_loss: 0.0485 - val_acc: 0.9828\n",
            "Epoch 39/50\n",
            "75/75 [==============================] - 94s 1s/step - loss: 0.0254 - acc: 0.9906 - val_loss: 0.0473 - val_acc: 0.9829\n",
            "Epoch 40/50\n",
            "75/75 [==============================] - 96s 1s/step - loss: 0.0308 - acc: 0.9880 - val_loss: 0.0445 - val_acc: 0.9837\n",
            "Epoch 41/50\n",
            "75/75 [==============================] - 94s 1s/step - loss: 0.0239 - acc: 0.9908 - val_loss: 0.0394 - val_acc: 0.9849\n",
            "Epoch 42/50\n",
            "75/75 [==============================] - 95s 1s/step - loss: 0.0290 - acc: 0.9893 - val_loss: 0.0509 - val_acc: 0.9811\n",
            "Epoch 43/50\n",
            "75/75 [==============================] - 94s 1s/step - loss: 0.0312 - acc: 0.9876 - val_loss: 0.0429 - val_acc: 0.9840\n",
            "Epoch 44/50\n",
            "75/75 [==============================] - 95s 1s/step - loss: 0.0258 - acc: 0.9906 - val_loss: 0.0559 - val_acc: 0.9821\n",
            "Epoch 45/50\n",
            "75/75 [==============================] - 97s 1s/step - loss: 0.0234 - acc: 0.9913 - val_loss: 0.0505 - val_acc: 0.9837\n",
            "Epoch 46/50\n",
            "75/75 [==============================] - 95s 1s/step - loss: 0.0246 - acc: 0.9903 - val_loss: 0.0449 - val_acc: 0.9831\n",
            "Epoch 47/50\n",
            "75/75 [==============================] - 95s 1s/step - loss: 0.0221 - acc: 0.9918 - val_loss: 0.0517 - val_acc: 0.9821\n",
            "Epoch 48/50\n",
            "75/75 [==============================] - 95s 1s/step - loss: 0.0221 - acc: 0.9917 - val_loss: 0.0511 - val_acc: 0.9835\n",
            "Epoch 49/50\n",
            "75/75 [==============================] - 94s 1s/step - loss: 0.0184 - acc: 0.9934 - val_loss: 0.0458 - val_acc: 0.9848\n",
            "Epoch 50/50\n",
            "75/75 [==============================] - 96s 1s/step - loss: 0.0233 - acc: 0.9910 - val_loss: 0.0541 - val_acc: 0.9814\n"
          ],
          "name": "stdout"
        }
      ]
    },
    {
      "cell_type": "code",
      "metadata": {
        "id": "NpNBRGcrcItk",
        "colab_type": "code",
        "outputId": "e0d191f3-624b-4ff3-ce16-c25123d7d563",
        "colab": {
          "base_uri": "https://localhost:8080/",
          "height": 317
        }
      },
      "source": [
        "plt.plot(History.history['loss'])\n",
        "plt.plot(History.history['val_loss'])\n",
        "plt.title('Model Loss')\n",
        "plt.ylabel('Loss')\n",
        "plt.xlabel('Epochs')\n",
        "plt.legend(['train', 'test'])\n",
        "plt.show()"
      ],
      "execution_count": 0,
      "outputs": [
        {
          "output_type": "display_data",
          "data": {
            "image/png": "[encoded data removed]",
            "text/plain": [
              "<Figure size 432x288 with 1 Axes>"
            ]
          },
          "metadata": {
            "tags": []
          }
        }
      ]
    },
    {
      "cell_type": "code",
      "metadata": {
        "id": "gzsGL0f6cKrL",
        "colab_type": "code",
        "outputId": "dadac231-784e-4d45-a6d7-e100a692ecab",
        "colab": {
          "base_uri": "https://localhost:8080/",
          "height": 317
        }
      },
      "source": [
        "plt.plot(History.history['acc'])\n",
        "plt.plot(History.history['val_acc'])\n",
        "plt.title('Model Accuracy')\n",
        "plt.ylabel('Accuracy')\n",
        "plt.xlabel('Epochs')\n",
        "plt.legend(['train', 'test'])\n",
        "plt.show()"
      ],
      "execution_count": 0,
      "outputs": [
        {
          "output_type": "display_data",
          "data": {
            "image/png": "[encoded data removed]",
            "text/plain": [
              "<Figure size 432x288 with 1 Axes>"
            ]
          },
          "metadata": {
            "tags": []
          }
        }
      ]
    },
    {
      "cell_type": "code",
      "metadata": {
        "id": "OtmuTcDjcL4T",
        "colab_type": "code",
        "outputId": "928d84ea-155f-491f-af43-5fa9341d057a",
        "colab": {
          "base_uri": "https://localhost:8080/",
          "height": 550
        }
      },
      "source": [
        "import seaborn as sns\n",
        "Y_pred = model.predict(x_test)\n",
        "\n",
        "Y_pred_classes = np.argmax(Y_pred,axis = 1) \n",
        "\n",
        "Y_true = np.argmax(y_test,axis = 1) \n",
        "\n",
        "confusion_mtx = confusion_matrix(Y_true, Y_pred_classes) \n",
        "\n",
        "f,ax = plt.subplots(figsize=(8, 8))\n",
        "sns.heatmap(confusion_mtx, annot=True, linewidths=0.01,cmap=\"Greens\",linecolor=\"gray\", fmt= '.1f',ax=ax)\n",
        "plt.xlabel(\"Predicted Label\")\n",
        "plt.ylabel(\"True Label\")\n",
        "plt.title(\"Confusion Matrix\")\n",
        "plt.show()"
      ],
      "execution_count": 0,
      "outputs": [
        {
          "output_type": "display_data",
          "data": {
            "image/png": "[encoded data removed]",
            "text/plain": [
              "<Figure size 576x576 with 2 Axes>"
            ]
          },
          "metadata": {
            "tags": []
          }
        }
      ]
    },
    {
      "cell_type": "code",
      "metadata": {
        "id": "udCyqMz6cNQS",
        "colab_type": "code",
        "colab": {}
      },
      "source": [
        ""
      ],
      "execution_count": 0,
      "outputs": []
    }
  ]
}